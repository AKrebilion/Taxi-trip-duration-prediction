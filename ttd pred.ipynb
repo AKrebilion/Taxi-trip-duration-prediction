{
 "cells": [
  {
   "cell_type": "code",
   "execution_count": null,
   "id": "b994cdf7",
   "metadata": {},
   "outputs": [],
   "source": [
    "#in the code below passenger count has been removed because it wont contribute to duratin time."
   ]
  },
  {
   "cell_type": "code",
   "execution_count": 19,
   "id": "cfcc4a2e",
   "metadata": {},
   "outputs": [
    {
     "name": "stdout",
     "output_type": "stream",
     "text": [
      "Mean Squared Error (MSE): 27371940.138165276\n",
      "Mean Absolute Error (MAE): 608.7839307574936\n",
      "Root Mean Squared Error (RMSE): 5231.819964234748\n"
     ]
    }
   ],
   "source": [
    "import pandas as pd\n",
    "from sklearn.preprocessing import StandardScaler, OneHotEncoder\n",
    "from sklearn.compose import ColumnTransformer\n",
    "from sklearn.linear_model import LinearRegression\n",
    "from sklearn.metrics import mean_squared_error, mean_absolute_error\n",
    "\n",
    "# Step 1: Data Preprocessing\n",
    "# Read the training dataset\n",
    "train_data = pd.read_csv('train.csv')\n",
    "\n",
    "# Drop irrelevant columns and handle missing values if any\n",
    "train_data.dropna(inplace=True)\n",
    "train_data.drop(['pickup_datetime', 'dropoff_datetime', 'id'], axis=1, inplace=True)\n",
    "\n",
    "# Identify columns with non-numeric values\n",
    "categorical_cols = train_data.select_dtypes(include='object').columns\n",
    "\n",
    "# Perform one-hot encoding on categorical columns\n",
    "transformer = ColumnTransformer([('encoder', OneHotEncoder(), categorical_cols)], remainder='passthrough')\n",
    "X_encoded = transformer.fit_transform(train_data.drop('trip_duration', axis=1))\n",
    "\n",
    "# Split the dataset into features (X) and target variable (y)\n",
    "X = X_encoded\n",
    "y = train_data['trip_duration']\n",
    "\n",
    "# Step 2: Model Selection and Training\n",
    "# Choose a regression algorithm\n",
    "model = LinearRegression()\n",
    "\n",
    "# Scale the features\n",
    "scaler = StandardScaler()\n",
    "X_scaled = scaler.fit_transform(X)\n",
    "\n",
    "# Train the model\n",
    "model.fit(X_scaled, y)\n",
    "\n",
    "\n",
    "# Step 3: Prediction\n",
    "# Load the test dataset and preprocess it\n",
    "test_data = pd.read_csv('test.csv')\n",
    "test_data.dropna(inplace=True)\n",
    "test_data.drop(['pickup_datetime', 'id'], axis=1, inplace=True)\n",
    "\n",
    "# Perform one-hot encoding on categorical columns for the test dataset\n",
    "X_test_encoded = transformer.transform(test_data)\n",
    "\n",
    "# Scale the features of the test set\n",
    "X_test_scaled = scaler.transform(X_test_encoded)\n",
    "\n",
    "# Make predictions on the test set\n",
    "y_test_pred = model.predict(X_test_scaled)\n",
    "\n",
    "# Create a new column with the predicted trip duration\n",
    "test_data['trip_duration_pred'] = y_test_pred\n",
    "\n",
    "# Save the predictions to a CSV file\n",
    "test_data.to_csv('test_predictions.csv', index=False)\n"
   ]
  }
 ],
 "metadata": {
  "kernelspec": {
   "display_name": "Python 3",
   "language": "python",
   "name": "python3"
  },
  "language_info": {
   "codemirror_mode": {
    "name": "ipython",
    "version": 3
   },
   "file_extension": ".py",
   "mimetype": "text/x-python",
   "name": "python",
   "nbconvert_exporter": "python",
   "pygments_lexer": "ipython3",
   "version": "3.8.8"
  }
 },
 "nbformat": 4,
 "nbformat_minor": 5
}
